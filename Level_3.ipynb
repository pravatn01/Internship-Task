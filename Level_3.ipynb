{
 "cells": [
  {
   "cell_type": "markdown",
   "metadata": {},
   "source": [
    "# Level 3\n",
    "---\n",
    "### Task: Predictive Modeling\n",
    "- Build a regression model to predict the\n",
    "aggregate rating of a restaurant based on\n",
    "available features.\n",
    "\n",
    "- Split the dataset into training and testing sets\n",
    "and evaluate the model's performance using\n",
    "appropriate metrics.\n",
    "\n",
    "- Experiment with different algorithms (e.g.,\n",
    "linear regression, decision trees, random\n",
    "forest) and compare their performance."
   ]
  },
  {
   "cell_type": "code",
   "execution_count": 1,
   "metadata": {},
   "outputs": [],
   "source": [
    "import pandas as pd\n",
    "import numpy as np\n",
    "import matplotlib.pyplot as plt\n",
    "import seaborn as sns\n",
    "from sklearn.model_selection import train_test_split\n",
    "from sklearn.preprocessing import OneHotEncoder, StandardScaler\n",
    "from sklearn.ensemble import RandomForestRegressor, GradientBoostingRegressor\n",
    "from sklearn.tree import DecisionTreeRegressor\n",
    "from sklearn.metrics import mean_squared_error, r2_score"
   ]
  },
  {
   "cell_type": "code",
   "execution_count": null,
   "metadata": {},
   "outputs": [],
   "source": [
    "df = pd.read_csv('Dataset.csv')"
   ]
  },
  {
   "cell_type": "code",
   "execution_count": null,
   "metadata": {},
   "outputs": [],
   "source": [
    "# Dropping irrelevant columns\n",
    "df_cleaned = df.drop(columns=[\n",
    "    \"Restaurant ID\", \"Restaurant Name\", \"Address\", \"Locality\", \"Locality Verbose\",\n",
    "    \"Rating color\", \"Rating text\", \"Currency\", \"Switch to order menu\"\n",
    "])"
   ]
  },
  {
   "cell_type": "code",
   "execution_count": null,
   "metadata": {},
   "outputs": [],
   "source": [
    "df_cleaned.dropna(subset=['Cuisines'],inplace=True)"
   ]
  },
  {
   "cell_type": "code",
   "execution_count": null,
   "metadata": {},
   "outputs": [],
   "source": [
    "# Binary Encoding for binary columns\n",
    "df_cleaned[\"Has Table booking\"] = df_cleaned[\"Has Table booking\"].map({\"Yes\": 1, \"No\": 0})\n",
    "df_cleaned[\"Has Online delivery\"] = df_cleaned[\"Has Online delivery\"].map({\"Yes\": 1, \"No\": 0})\n",
    "df_cleaned[\"Is delivering now\"] = df_cleaned[\"Is delivering now\"].map({\"Yes\": 1, \"No\": 0})\n",
    "\n",
    "# One-hot encoding categorical features (City, Cuisines)\n",
    "encoder = OneHotEncoder(drop=\"first\", sparse_output=False)\n",
    "encoded_features = encoder.fit_transform(df_cleaned[[\"City\", \"Cuisines\"]])\n",
    "encoded_feature_names = encoder.get_feature_names_out([\"City\", \"Cuisines\"])\n",
    "\n",
    "# Converting encoded features to a DataFrame with the same index as df_cleaned\n",
    "encoded_df = pd.DataFrame(encoded_features, columns=encoded_feature_names, index=df_cleaned.index)\n",
    "\n",
    "df_cleaned = pd.concat([df_cleaned, encoded_df], axis=1)\n",
    "\n",
    "df_cleaned.drop(columns=[\"City\", \"Cuisines\"], inplace=True)"
   ]
  },
  {
   "cell_type": "code",
   "execution_count": null,
   "metadata": {},
   "outputs": [],
   "source": [
    "# Defining target variable (Aggregate rating)\n",
    "X = df_cleaned.drop(columns=[\"Aggregate rating\"])\n",
    "y = df_cleaned[\"Aggregate rating\"]"
   ]
  },
  {
   "cell_type": "code",
   "execution_count": null,
   "metadata": {},
   "outputs": [],
   "source": [
    "# Splitting into training and testing sets (80% training, 20% testing)\n",
    "X_train, X_test, y_train, y_test = train_test_split(X, y, test_size=0.2, random_state=42)"
   ]
  },
  {
   "cell_type": "code",
   "execution_count": null,
   "metadata": {},
   "outputs": [],
   "source": [
    "# Standardizing numerical features\n",
    "scaler = StandardScaler()\n",
    "X_train_scaled = scaler.fit_transform(X_train)\n",
    "X_test_scaled = scaler.transform(X_test)"
   ]
  },
  {
   "cell_type": "code",
   "execution_count": null,
   "metadata": {},
   "outputs": [],
   "source": [
    "def evaluate_model(model, X_train, y_train, X_test, y_test):\n",
    "    model.fit(X_train, y_train)\n",
    "\n",
    "    y_pred = model.predict(X_test)\n",
    "\n",
    "    rmse = np.sqrt(mean_squared_error(y_test, y_pred))\n",
    "    r2 = r2_score(y_test, y_pred)\n",
    "\n",
    "    return rmse, r2"
   ]
  },
  {
   "cell_type": "code",
   "execution_count": null,
   "metadata": {},
   "outputs": [],
   "source": [
    "# Initializing models\n",
    "models = {\n",
    "    \"Random Forest Regressor\": RandomForestRegressor(n_estimators=100, random_state=42),\n",
    "    \"Decision Tree Regressor\": DecisionTreeRegressor(random_state=42),\n",
    "    \"Gradient Boosting Regressor\": GradientBoostingRegressor(n_estimators=100, random_state=42)\n",
    "\n",
    "}"
   ]
  },
  {
   "cell_type": "code",
   "execution_count": null,
   "metadata": {},
   "outputs": [],
   "source": [
    "# Evaluating each model\n",
    "results = {}\n",
    "for name, model in models.items():\n",
    "    rmse, r2 = evaluate_model(model, X_train_scaled, y_train, X_test_scaled, y_test)\n",
    "    results[name] = {\"RMSE\": rmse, \"R² Score\": r2}"
   ]
  },
  {
   "cell_type": "code",
   "execution_count": 12,
   "metadata": {},
   "outputs": [
    {
     "name": "stdout",
     "output_type": "stream",
     "text": [
      "Model: Random Forest Regressor\n",
      "RMSE: 0.301\n",
      "R² Score: 0.960\n",
      "------------------------------\n",
      "Model: Decision Tree Regressor\n",
      "RMSE: 0.405\n",
      "R² Score: 0.928\n",
      "------------------------------\n",
      "Model: Gradient Boosting Regressor\n",
      "RMSE: 0.314\n",
      "R² Score: 0.957\n",
      "------------------------------\n"
     ]
    }
   ],
   "source": [
    "for model_name, metrics in results.items():\n",
    "    print(f\"Model: {model_name}\")\n",
    "    print(f\"RMSE: {metrics['RMSE']:.3f}\")\n",
    "    print(f\"R² Score: {metrics['R² Score']:.3f}\")\n",
    "    print(\"-\" * 30)"
   ]
  },
  {
   "cell_type": "markdown",
   "metadata": {},
   "source": [
    "---\n",
    "#### Why Linear Regression is Not Useful Here:\n",
    "\n",
    "Linear Regression assumes a **straight-line relationship** between features and the target variable. However, restaurant ratings are influenced by complex, **non-linear interactions** (e.g., city, cuisine type, online delivery availability).  \n",
    "\n",
    "#### Problems with Linear Regression:\n",
    "- **Failed Completely**: It produced an **R² score worse than guessing** and an RMSE in the trillions.  \n",
    "- **Can’t Handle Non-Linearity**: Ratings don’t follow a simple linear pattern.  \n",
    "- **Sensitive to Feature Encoding**: One-hot encoding created many new columns, making it unstable.  \n",
    "\n",
    "#### Why These Models Are Better:\n",
    "| Model                          | RMSE  | R² Score |\n",
    "|--------------------------------|-------|----------|\n",
    "| **Random Forest Regressor**    | 0.301 | 0.960    |\n",
    "| **Decision Tree Regressor**    | 0.405 | 0.928    |\n",
    "| **Gradient Boosting Regressor** | 0.314 | 0.957    |\n",
    "\n",
    "✅ **Random Forest & Gradient Boosting** excel at capturing complex patterns in structured data.  \n",
    "✅ **Decision Tree**, while not as strong, still handles non-linearity better than Linear Regression.  "
   ]
  }
 ],
 "metadata": {
  "kernelspec": {
   "display_name": "base",
   "language": "python",
   "name": "python3"
  },
  "language_info": {
   "codemirror_mode": {
    "name": "ipython",
    "version": 3
   },
   "file_extension": ".py",
   "mimetype": "text/x-python",
   "name": "python",
   "nbconvert_exporter": "python",
   "pygments_lexer": "ipython3",
   "version": "3.12.7"
  }
 },
 "nbformat": 4,
 "nbformat_minor": 2
}
